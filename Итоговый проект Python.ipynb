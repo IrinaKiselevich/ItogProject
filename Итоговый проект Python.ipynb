{
 "cells": [
  {
   "cell_type": "code",
   "execution_count": 18,
   "id": "bd40667d",
   "metadata": {},
   "outputs": [],
   "source": [
    "from sympy import *"
   ]
  },
  {
   "cell_type": "code",
   "execution_count": 2,
   "id": "92eae9fd",
   "metadata": {},
   "outputs": [
    {
     "name": "stdout",
     "output_type": "stream",
     "text": [
      "(1-5.385164807134504j) (1+5.385164807134504j)\n"
     ]
    }
   ],
   "source": [
    "#1находим корни уравнения\n",
    "x=Symbol('x')\n",
    "function=-5*x**2+10*x-150\n",
    "y=solve(function)\n",
    "x1=complex(y[0])\n",
    "x2=complex(y[1])\n",
    "print(x1,x2)\n"
   ]
  },
  {
   "cell_type": "code",
   "execution_count": 3,
   "id": "c506a90c",
   "metadata": {},
   "outputs": [
    {
     "name": "stdout",
     "output_type": "stream",
     "text": [
      "(-oo < x) & (x < 1)\n"
     ]
    }
   ],
   "source": [
    "#2 находим интервалы ,на которых функция возрастает\n",
    "fd=diff(function)\n",
    "print(solve(0<fd))"
   ]
  },
  {
   "cell_type": "code",
   "execution_count": 4,
   "id": "f85fc9b9",
   "metadata": {},
   "outputs": [
    {
     "name": "stdout",
     "output_type": "stream",
     "text": [
      "(1 < x) & (x < oo)\n"
     ]
    }
   ],
   "source": [
    "#3 находим интервалы ,на которых функция убывает\n",
    "print(solve(fd<0))"
   ]
  },
  {
   "cell_type": "code",
   "execution_count": 11,
   "id": "70693192",
   "metadata": {},
   "outputs": [
    {
     "name": "stdout",
     "output_type": "stream",
     "text": [
      "[-3525, -3270, -3025, -2790, -2565, -2350, -2145, -1950, -1765, -1590, -1425, -1270, -1125, -990, -865, -750, -645, -550, -465, -390, -325, -270, -225, -190, -165, -150, -145, -150, -165, -190, -225, -270, -325, -390, -465, -550, -645, -750, -865, -990, -1125, -1270, -1425, -1590, -1765, -1950, -2145, -2350, -2565, -2790, -3025, -3270, -3525, -3790, -4065]\n"
     ]
    },
    {
     "data": {
      "text/plain": [
       "[<matplotlib.lines.Line2D at 0x1b9b8f7eca0>]"
      ]
     },
     "execution_count": 11,
     "metadata": {},
     "output_type": "execute_result"
    },
    {
     "data": {
      "image/png": "[encoded data removed]",
      "text/plain": [
       "<Figure size 640x480 with 1 Axes>"
      ]
     },
     "metadata": {},
     "output_type": "display_data"
    }
   ],
   "source": [
    "#4 построим график функции\n",
    "import matplotlib.pyplot as plt\n",
    "list_y=[]\n",
    "for i in range(-25,30):\n",
    "    x=i\n",
    "    y=-5*x**2+10*x-150\n",
    "    list_y.append(y)\n",
    "print(list_y)\n",
    "#plt.plot(range(-5,6),[0,0,0,0,0,0,0,0,0,0,0])\n",
    "plt.plot(range(-25,30),list_y)"
   ]
  },
  {
   "cell_type": "code",
   "execution_count": 12,
   "id": "604f5b7f",
   "metadata": {},
   "outputs": [
    {
     "name": "stdout",
     "output_type": "stream",
     "text": [
      "1 -145\n"
     ]
    }
   ],
   "source": [
    "#5 вычислим вершину\n",
    "corni=solve(fd)\n",
    "ver=corni[0]\n",
    "x=ver\n",
    "y=-5*x**2+10*x-150\n",
    "print(ver,y)"
   ]
  },
  {
   "cell_type": "code",
   "execution_count": 17,
   "id": "d4a03dc3",
   "metadata": {},
   "outputs": [
    {
     "name": "stdout",
     "output_type": "stream",
     "text": [
      "False\n"
     ]
    }
   ],
   "source": [
    "#6 определим промежуток, на котором f>0\n",
    "solve(0<function)\n",
    "print(solve(function>0))"
   ]
  },
  {
   "cell_type": "code",
   "execution_count": 16,
   "id": "6bdceaee",
   "metadata": {},
   "outputs": [
    {
     "name": "stdout",
     "output_type": "stream",
     "text": [
      "(-oo < x) & (x < oo)\n"
     ]
    }
   ],
   "source": [
    "#7 определить промежутки на которых f<0\n",
    "solve(function<0)\n",
    "print(solve(function<0))"
   ]
  },
  {
   "cell_type": "code",
   "execution_count": null,
   "id": "d9385ef9",
   "metadata": {},
   "outputs": [],
   "source": []
  },
  {
   "cell_type": "code",
   "execution_count": null,
   "id": "10da7c29",
   "metadata": {},
   "outputs": [],
   "source": []
  },
  {
   "cell_type": "code",
   "execution_count": null,
   "id": "d92314e5",
   "metadata": {},
   "outputs": [],
   "source": []
  },
  {
   "cell_type": "code",
   "execution_count": null,
   "id": "8ba99ada",
   "metadata": {},
   "outputs": [],
   "source": []
  },
  {
   "cell_type": "code",
   "execution_count": null,
   "id": "994e0021",
   "metadata": {},
   "outputs": [],
   "source": []
  },
  {
   "cell_type": "code",
   "execution_count": null,
   "id": "34dc7b6e",
   "metadata": {},
   "outputs": [],
   "source": []
  },
  {
   "cell_type": "code",
   "execution_count": null,
   "id": "26b09485",
   "metadata": {},
   "outputs": [],
   "source": []
  },
  {
   "cell_type": "code",
   "execution_count": null,
   "id": "de741590",
   "metadata": {},
   "outputs": [],
   "source": []
  },
  {
   "cell_type": "code",
   "execution_count": null,
   "id": "7ffb3e4d",
   "metadata": {},
   "outputs": [],
   "source": []
  }
 ],
 "metadata": {
  "kernelspec": {
   "display_name": "Python 3 (ipykernel)",
   "language": "python",
   "name": "python3"
  },
  "language_info": {
   "codemirror_mode": {
    "name": "ipython",
    "version": 3
   },
   "file_extension": ".py",
   "mimetype": "text/x-python",
   "name": "python",
   "nbconvert_exporter": "python",
   "pygments_lexer": "ipython3",
   "version": "3.9.13"
  }
 },
 "nbformat": 4,
 "nbformat_minor": 5
}
